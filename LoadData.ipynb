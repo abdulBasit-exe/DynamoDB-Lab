{
  "nbformat": 4,
  "nbformat_minor": 0,
  "metadata": {
    "colab": {
      "provenance": []
    },
    "kernelspec": {
      "name": "python3",
      "display_name": "Python 3"
    },
    "language_info": {
      "name": "python"
    }
  },
  "cells": [
    {
      "cell_type": "code",
      "source": [
        "!pip install boto3"
      ],
      "metadata": {
        "colab": {
          "base_uri": "https://localhost:8080/"
        },
        "id": "8GjFBfN3GlZ7",
        "outputId": "35fb21fa-d25a-423f-bc65-3833efa82fc0"
      },
      "execution_count": null,
      "outputs": [
        {
          "output_type": "stream",
          "name": "stdout",
          "text": [
            "Requirement already satisfied: boto3 in /usr/local/lib/python3.11/dist-packages (1.36.8)\n",
            "Requirement already satisfied: botocore<1.37.0,>=1.36.8 in /usr/local/lib/python3.11/dist-packages (from boto3) (1.36.8)\n",
            "Requirement already satisfied: jmespath<2.0.0,>=0.7.1 in /usr/local/lib/python3.11/dist-packages (from boto3) (1.0.1)\n",
            "Requirement already satisfied: s3transfer<0.12.0,>=0.11.0 in /usr/local/lib/python3.11/dist-packages (from boto3) (0.11.2)\n",
            "Requirement already satisfied: python-dateutil<3.0.0,>=2.1 in /usr/local/lib/python3.11/dist-packages (from botocore<1.37.0,>=1.36.8->boto3) (2.8.2)\n",
            "Requirement already satisfied: urllib3!=2.2.0,<3,>=1.25.4 in /usr/local/lib/python3.11/dist-packages (from botocore<1.37.0,>=1.36.8->boto3) (2.3.0)\n",
            "Requirement already satisfied: six>=1.5 in /usr/local/lib/python3.11/dist-packages (from python-dateutil<3.0.0,>=2.1->botocore<1.37.0,>=1.36.8->boto3) (1.17.0)\n"
          ]
        }
      ]
    },
    {
      "cell_type": "code",
      "source": [
        "!pip install awscli"
      ],
      "metadata": {
        "colab": {
          "base_uri": "https://localhost:8080/"
        },
        "id": "XZQxnqljGtK9",
        "outputId": "83b08d42-48b1-4dfa-e06e-456da9c7142e"
      },
      "execution_count": null,
      "outputs": [
        {
          "output_type": "stream",
          "name": "stdout",
          "text": [
            "Collecting awscli\n",
            "  Downloading awscli-1.37.8-py3-none-any.whl.metadata (11 kB)\n",
            "Requirement already satisfied: botocore==1.36.8 in /usr/local/lib/python3.11/dist-packages (from awscli) (1.36.8)\n",
            "Collecting docutils<0.17,>=0.10 (from awscli)\n",
            "  Downloading docutils-0.16-py2.py3-none-any.whl.metadata (2.7 kB)\n",
            "Requirement already satisfied: s3transfer<0.12.0,>=0.11.0 in /usr/local/lib/python3.11/dist-packages (from awscli) (0.11.2)\n",
            "Requirement already satisfied: PyYAML<6.1,>=3.10 in /usr/local/lib/python3.11/dist-packages (from awscli) (6.0.2)\n",
            "Collecting colorama<0.4.7,>=0.2.5 (from awscli)\n",
            "  Downloading colorama-0.4.6-py2.py3-none-any.whl.metadata (17 kB)\n",
            "Collecting rsa<4.8,>=3.1.2 (from awscli)\n",
            "  Downloading rsa-4.7.2-py3-none-any.whl.metadata (3.6 kB)\n",
            "Requirement already satisfied: jmespath<2.0.0,>=0.7.1 in /usr/local/lib/python3.11/dist-packages (from botocore==1.36.8->awscli) (1.0.1)\n",
            "Requirement already satisfied: python-dateutil<3.0.0,>=2.1 in /usr/local/lib/python3.11/dist-packages (from botocore==1.36.8->awscli) (2.8.2)\n",
            "Requirement already satisfied: urllib3!=2.2.0,<3,>=1.25.4 in /usr/local/lib/python3.11/dist-packages (from botocore==1.36.8->awscli) (2.3.0)\n",
            "Requirement already satisfied: pyasn1>=0.1.3 in /usr/local/lib/python3.11/dist-packages (from rsa<4.8,>=3.1.2->awscli) (0.6.1)\n",
            "Requirement already satisfied: six>=1.5 in /usr/local/lib/python3.11/dist-packages (from python-dateutil<3.0.0,>=2.1->botocore==1.36.8->awscli) (1.17.0)\n",
            "Downloading awscli-1.37.8-py3-none-any.whl (4.6 MB)\n",
            "\u001b[2K   \u001b[90m━━━━━━━━━━━━━━━━━━━━━━━━━━━━━━━━━━━━━━━━\u001b[0m \u001b[32m4.6/4.6 MB\u001b[0m \u001b[31m74.7 MB/s\u001b[0m eta \u001b[36m0:00:00\u001b[0m\n",
            "\u001b[?25hDownloading colorama-0.4.6-py2.py3-none-any.whl (25 kB)\n",
            "Downloading docutils-0.16-py2.py3-none-any.whl (548 kB)\n",
            "\u001b[2K   \u001b[90m━━━━━━━━━━━━━━━━━━━━━━━━━━━━━━━━━━━━━━━━\u001b[0m \u001b[32m548.2/548.2 kB\u001b[0m \u001b[31m34.7 MB/s\u001b[0m eta \u001b[36m0:00:00\u001b[0m\n",
            "\u001b[?25hDownloading rsa-4.7.2-py3-none-any.whl (34 kB)\n",
            "Installing collected packages: rsa, docutils, colorama, awscli\n",
            "  Attempting uninstall: rsa\n",
            "    Found existing installation: rsa 4.9\n",
            "    Uninstalling rsa-4.9:\n",
            "      Successfully uninstalled rsa-4.9\n",
            "  Attempting uninstall: docutils\n",
            "    Found existing installation: docutils 0.21.2\n",
            "    Uninstalling docutils-0.21.2:\n",
            "      Successfully uninstalled docutils-0.21.2\n",
            "\u001b[31mERROR: pip's dependency resolver does not currently take into account all the packages that are installed. This behaviour is the source of the following dependency conflicts.\n",
            "sphinx 8.1.3 requires docutils<0.22,>=0.20, but you have docutils 0.16 which is incompatible.\u001b[0m\u001b[31m\n",
            "\u001b[0mSuccessfully installed awscli-1.37.8 colorama-0.4.6 docutils-0.16 rsa-4.7.2\n"
          ]
        }
      ]
    },
    {
      "cell_type": "code",
      "source": [
        "!aws configure list"
      ],
      "metadata": {
        "colab": {
          "base_uri": "https://localhost:8080/"
        },
        "id": "Mkc118_eHXNH",
        "outputId": "ae27ee31-b2c4-45c6-d336-4f7a85de6b2a"
      },
      "execution_count": null,
      "outputs": [
        {
          "output_type": "stream",
          "name": "stdout",
          "text": [
            "      Name                    Value             Type    Location\n",
            "      ----                    -----             ----    --------\n",
            "   profile                <not set>             None    None\n",
            "access_key     ****************NXVY shared-credentials-file    \n",
            "secret_key     ****************VhXk shared-credentials-file    \n",
            "    region                us-east-1      config-file    ~/.aws/config\n"
          ]
        }
      ]
    },
    {
      "cell_type": "code",
      "execution_count": null,
      "metadata": {
        "id": "dQnYRToE5ZnG",
        "colab": {
          "base_uri": "https://localhost:8080/"
        },
        "outputId": "b3d66888-543d-4223-e15c-d89a6acf5c88"
      },
      "outputs": [
        {
          "output_type": "stream",
          "name": "stdout",
          "text": [
            "Inserted item: {'Name': 'John Doe', 'rollNo': '001', 'Class': '10', 'Age': 15}\n",
            "Inserted item: {'Name': 'Jane Smith', 'rollNo': '002', 'Class': '10', 'Age': 16}\n",
            "Inserted item: {'Name': 'Ahmed Khan', 'rollNo': '003', 'Class': '11', 'Age': 17}\n",
            "Inserted item: {'Name': 'Sara Ali', 'rollNo': '004', 'Class': '12', 'Age': 18}\n",
            "All items inserted into 'Employees' successfully!\n"
          ]
        }
      ],
      "source": [
        "import boto3\n",
        "from botocore.exceptions import ClientError\n",
        "\n",
        "def load_data(table_name, data, region='us-east-1'):\n",
        "    \"\"\"\n",
        "    Load data into a DynamoDB table with a composite primary key (partition and sort keys).\n",
        "\n",
        "    Args:\n",
        "        table_name (str): Name of the DynamoDB table.\n",
        "        data (list): List of dictionaries representing items to insert.\n",
        "        region (str): AWS region where the table is located. Default is 'us-east-1'.\n",
        "    \"\"\"\n",
        "    try:\n",
        "        # Initialize the DynamoDB resource\n",
        "        dynamodb = boto3.resource('dynamodb', region_name=region)\n",
        "        table = dynamodb.Table(table_name)\n",
        "\n",
        "        for item in data:\n",
        "            table.put_item(Item=item)\n",
        "            print(f\"Inserted item: {item}\")\n",
        "        print(f\"All items inserted into '{table_name}' successfully!\")\n",
        "    except ClientError as e:\n",
        "        print(f\"Error inserting data: {e.response['Error']['Message']}\")\n",
        "\n",
        "# Example Data (Ensure both 'Name' and 'rollNo' are provided for each item)\n",
        "data = [\n",
        "    {'Name': 'John Doe', 'rollNo': '001', 'Class': '10', 'Age': 15},\n",
        "    {'Name': 'Jane Smith', 'rollNo': '002', 'Class': '10', 'Age': 16},\n",
        "    {'Name': 'Ahmed Khan', 'rollNo': '003', 'Class': '11', 'Age': 17},\n",
        "    {'Name': 'Sara Ali', 'rollNo': '004', 'Class': '12', 'Age': 18}\n",
        "]\n",
        "\n",
        "# Call the function to load data\n",
        "load_data(table_name='Employees', data=data)\n"
      ]
    },
    {
      "cell_type": "markdown",
      "source": [
        "## Loading from JSON Data"
      ],
      "metadata": {
        "id": "U5GJWcXTWZac"
      }
    },
    {
      "cell_type": "code",
      "source": [
        "import boto3\n",
        "import json\n",
        "import decimal\n",
        "from botocore.exceptions import ClientError\n",
        "\n",
        "def load_data_from_json(table_name, json_file, region='us-east-1'):\n",
        "    \"\"\"\n",
        "    Load data from a JSON file into DynamoDB one by one and print a message for each entry.\n",
        "    Converts float values to Decimal since DynamoDB does not support float.\n",
        "    \"\"\"\n",
        "    try:\n",
        "        dynamodb = boto3.resource('dynamodb', region_name=region)\n",
        "        table = dynamodb.Table(table_name)\n",
        "\n",
        "        with open(json_file, 'r', encoding='utf-8') as file:\n",
        "            data = json.load(file, parse_float=decimal.Decimal)  # Convert float to Decimal\n",
        "\n",
        "        for item in data:\n",
        "            table.put_item(Item=item)\n",
        "            print(f\"✅ Data added: {item}\")\n",
        "\n",
        "        print(\"\\n🎉 All data has been successfully loaded into DynamoDB!\")\n",
        "\n",
        "    except FileNotFoundError:\n",
        "        print(\"❌ Error: JSON file not found.\")\n",
        "    except json.JSONDecodeError:\n",
        "        print(\"❌ Error: Invalid JSON format.\")\n",
        "    except ClientError as e:\n",
        "        print(f\"❌ AWS Error: {e.response['Error']['Message']}\")\n",
        "\n",
        "# Load data into the 'Students' table\n",
        "load_data_from_json(table_name='Students', json_file='Students.json')\n"
      ],
      "metadata": {
        "id": "WMefX5Y5Huu_",
        "colab": {
          "base_uri": "https://localhost:8080/"
        },
        "outputId": "7099fda2-7a69-4efc-9dd2-96c314476e76"
      },
      "execution_count": 11,
      "outputs": [
        {
          "output_type": "stream",
          "name": "stdout",
          "text": [
            "✅ Data added: {'Name': 'Ahmed Khan', 'rollNo': '001', 'Age': 20, 'Department': 'Computer Science', 'CGPA': Decimal('3.8')}\n",
            "✅ Data added: {'Name': 'Fatima Ali', 'rollNo': '002', 'Age': 21, 'Department': 'Software Engineering', 'CGPA': Decimal('3.6')}\n",
            "✅ Data added: {'Name': 'Bilal Hussain', 'rollNo': '003', 'Age': 22, 'Department': 'Data Science', 'CGPA': Decimal('3.9')}\n",
            "✅ Data added: {'Name': 'Ayesha Siddiqui', 'rollNo': '004', 'Age': 20, 'Department': 'Information Technology', 'CGPA': Decimal('3.7')}\n",
            "✅ Data added: {'Name': 'Hassan Raza', 'rollNo': '005', 'Age': 23, 'Department': 'Artificial Intelligence', 'CGPA': Decimal('4.0')}\n",
            "✅ Data added: {'Name': 'Zainab Sheikh', 'rollNo': '006', 'Age': 19, 'Department': 'Cyber Security', 'CGPA': Decimal('3.5')}\n",
            "✅ Data added: {'Name': 'Umar Farooq', 'rollNo': '007', 'Age': 22, 'Department': 'Machine Learning', 'CGPA': Decimal('3.8')}\n",
            "✅ Data added: {'Name': 'Hina Tariq', 'rollNo': '008', 'Age': 21, 'Department': 'Big Data', 'CGPA': Decimal('3.6')}\n",
            "✅ Data added: {'Name': 'Ali Haider', 'rollNo': '009', 'Age': 24, 'Department': 'Robotics', 'CGPA': Decimal('3.9')}\n",
            "✅ Data added: {'Name': 'Sara Malik', 'rollNo': '010', 'Age': 20, 'Department': 'Cloud Computing', 'CGPA': Decimal('3.7')}\n",
            "\n",
            "🎉 All data has been successfully loaded into DynamoDB!\n"
          ]
        }
      ]
    }
  ]
}